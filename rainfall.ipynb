{
 "cells": [
  {
   "cell_type": "code",
   "execution_count": 5,
   "id": "14751bf3-3abd-4b66-8584-0419945127dd",
   "metadata": {},
   "outputs": [
    {
     "data": {
      "text/html": [
       "<div>\n",
       "<style scoped>\n",
       "    .dataframe tbody tr th:only-of-type {\n",
       "        vertical-align: middle;\n",
       "    }\n",
       "\n",
       "    .dataframe tbody tr th {\n",
       "        vertical-align: top;\n",
       "    }\n",
       "\n",
       "    .dataframe thead th {\n",
       "        text-align: right;\n",
       "    }\n",
       "</style>\n",
       "<table border=\"1\" class=\"dataframe\">\n",
       "  <thead>\n",
       "    <tr style=\"text-align: right;\">\n",
       "      <th></th>\n",
       "      <th>Product code</th>\n",
       "      <th>Bureau of Meteorology station number</th>\n",
       "      <th>Year</th>\n",
       "      <th>Month</th>\n",
       "      <th>Day</th>\n",
       "      <th>Rainfall_amount_mm</th>\n",
       "      <th>Period over which rainfall was measured (days)</th>\n",
       "      <th>Quality</th>\n",
       "    </tr>\n",
       "  </thead>\n",
       "  <tbody>\n",
       "    <tr>\n",
       "      <th>0</th>\n",
       "      <td>IDCJAC0009</td>\n",
       "      <td>41529</td>\n",
       "      <td>2020</td>\n",
       "      <td>1</td>\n",
       "      <td>1</td>\n",
       "      <td>0.0</td>\n",
       "      <td>1.0</td>\n",
       "      <td>N</td>\n",
       "    </tr>\n",
       "    <tr>\n",
       "      <th>1</th>\n",
       "      <td>IDCJAC0009</td>\n",
       "      <td>41529</td>\n",
       "      <td>2020</td>\n",
       "      <td>1</td>\n",
       "      <td>2</td>\n",
       "      <td>0.0</td>\n",
       "      <td>1.0</td>\n",
       "      <td>N</td>\n",
       "    </tr>\n",
       "    <tr>\n",
       "      <th>2</th>\n",
       "      <td>IDCJAC0009</td>\n",
       "      <td>41529</td>\n",
       "      <td>2020</td>\n",
       "      <td>1</td>\n",
       "      <td>3</td>\n",
       "      <td>0.0</td>\n",
       "      <td>1.0</td>\n",
       "      <td>N</td>\n",
       "    </tr>\n",
       "    <tr>\n",
       "      <th>3</th>\n",
       "      <td>IDCJAC0009</td>\n",
       "      <td>41529</td>\n",
       "      <td>2020</td>\n",
       "      <td>1</td>\n",
       "      <td>4</td>\n",
       "      <td>0.0</td>\n",
       "      <td>1.0</td>\n",
       "      <td>N</td>\n",
       "    </tr>\n",
       "    <tr>\n",
       "      <th>4</th>\n",
       "      <td>IDCJAC0009</td>\n",
       "      <td>41529</td>\n",
       "      <td>2020</td>\n",
       "      <td>1</td>\n",
       "      <td>5</td>\n",
       "      <td>0.0</td>\n",
       "      <td>1.0</td>\n",
       "      <td>N</td>\n",
       "    </tr>\n",
       "    <tr>\n",
       "      <th>...</th>\n",
       "      <td>...</td>\n",
       "      <td>...</td>\n",
       "      <td>...</td>\n",
       "      <td>...</td>\n",
       "      <td>...</td>\n",
       "      <td>...</td>\n",
       "      <td>...</td>\n",
       "      <td>...</td>\n",
       "    </tr>\n",
       "    <tr>\n",
       "      <th>361</th>\n",
       "      <td>IDCJAC0009</td>\n",
       "      <td>41529</td>\n",
       "      <td>2020</td>\n",
       "      <td>12</td>\n",
       "      <td>27</td>\n",
       "      <td>0.0</td>\n",
       "      <td>1.0</td>\n",
       "      <td>N</td>\n",
       "    </tr>\n",
       "    <tr>\n",
       "      <th>362</th>\n",
       "      <td>IDCJAC0009</td>\n",
       "      <td>41529</td>\n",
       "      <td>2020</td>\n",
       "      <td>12</td>\n",
       "      <td>28</td>\n",
       "      <td>0.0</td>\n",
       "      <td>1.0</td>\n",
       "      <td>N</td>\n",
       "    </tr>\n",
       "    <tr>\n",
       "      <th>363</th>\n",
       "      <td>IDCJAC0009</td>\n",
       "      <td>41529</td>\n",
       "      <td>2020</td>\n",
       "      <td>12</td>\n",
       "      <td>29</td>\n",
       "      <td>0.0</td>\n",
       "      <td>1.0</td>\n",
       "      <td>N</td>\n",
       "    </tr>\n",
       "    <tr>\n",
       "      <th>364</th>\n",
       "      <td>IDCJAC0009</td>\n",
       "      <td>41529</td>\n",
       "      <td>2020</td>\n",
       "      <td>12</td>\n",
       "      <td>30</td>\n",
       "      <td>15.8</td>\n",
       "      <td>1.0</td>\n",
       "      <td>N</td>\n",
       "    </tr>\n",
       "    <tr>\n",
       "      <th>365</th>\n",
       "      <td>IDCJAC0009</td>\n",
       "      <td>41529</td>\n",
       "      <td>2020</td>\n",
       "      <td>12</td>\n",
       "      <td>31</td>\n",
       "      <td>1.2</td>\n",
       "      <td>1.0</td>\n",
       "      <td>N</td>\n",
       "    </tr>\n",
       "  </tbody>\n",
       "</table>\n",
       "<p>366 rows × 8 columns</p>\n",
       "</div>"
      ],
      "text/plain": [
       "    Product code  Bureau of Meteorology station number  Year  Month  Day  \\\n",
       "0     IDCJAC0009                                 41529  2020      1    1   \n",
       "1     IDCJAC0009                                 41529  2020      1    2   \n",
       "2     IDCJAC0009                                 41529  2020      1    3   \n",
       "3     IDCJAC0009                                 41529  2020      1    4   \n",
       "4     IDCJAC0009                                 41529  2020      1    5   \n",
       "..           ...                                   ...   ...    ...  ...   \n",
       "361   IDCJAC0009                                 41529  2020     12   27   \n",
       "362   IDCJAC0009                                 41529  2020     12   28   \n",
       "363   IDCJAC0009                                 41529  2020     12   29   \n",
       "364   IDCJAC0009                                 41529  2020     12   30   \n",
       "365   IDCJAC0009                                 41529  2020     12   31   \n",
       "\n",
       "     Rainfall_amount_mm  Period over which rainfall was measured (days)  \\\n",
       "0                   0.0                                             1.0   \n",
       "1                   0.0                                             1.0   \n",
       "2                   0.0                                             1.0   \n",
       "3                   0.0                                             1.0   \n",
       "4                   0.0                                             1.0   \n",
       "..                  ...                                             ...   \n",
       "361                 0.0                                             1.0   \n",
       "362                 0.0                                             1.0   \n",
       "363                 0.0                                             1.0   \n",
       "364                15.8                                             1.0   \n",
       "365                 1.2                                             1.0   \n",
       "\n",
       "    Quality  \n",
       "0         N  \n",
       "1         N  \n",
       "2         N  \n",
       "3         N  \n",
       "4         N  \n",
       "..      ...  \n",
       "361       N  \n",
       "362       N  \n",
       "363       N  \n",
       "364       N  \n",
       "365       N  \n",
       "\n",
       "[366 rows x 8 columns]"
      ]
     },
     "execution_count": 5,
     "metadata": {},
     "output_type": "execute_result"
    }
   ],
   "source": [
    "import pandas as pd\n",
    "import numpy as np\n",
    "import matplotlib.pyplot as plt\n",
    "import seaborn as sns\n",
    "\n",
    "df2020 = pd.read_csv(\"official_rainfall2020.csv\")\n",
    "df2021 = pd.read_csv(\"official_rainfall2021.csv\")\n",
    "df2020"
   ]
  },
  {
   "cell_type": "code",
   "execution_count": 11,
   "id": "770306ab-053f-4e85-9676-fa5350934c9b",
   "metadata": {},
   "outputs": [
    {
     "data": {
      "text/plain": [
       "<AxesSubplot:xlabel='Month'>"
      ]
     },
     "execution_count": 11,
     "metadata": {},
     "output_type": "execute_result"
    },
    {
     "data": {
      "image/png": "[encoded data removed]",
      "text/plain": [
       "<Figure size 864x432 with 1 Axes>"
      ]
     },
     "metadata": {
      "needs_background": "light"
     },
     "output_type": "display_data"
    }
   ],
   "source": [
    "#Definition in QLD: Days with ‘very heavy rainfall’ are classed as days with at least 30mm of rain.\n",
    "#2020, highest daily rainfall\n",
    "group = df2020.groupby('Month').Rainfall_amount_mm.max()\n",
    "group.plot(kind=\"bar\", figsize=(12, 6))"
   ]
  },
  {
   "cell_type": "code",
   "execution_count": 12,
   "id": "543e8f09-580c-4a8f-a3b3-63009aa1bd17",
   "metadata": {},
   "outputs": [
    {
     "data": {
      "text/plain": [
       "<AxesSubplot:xlabel='Month'>"
      ]
     },
     "execution_count": 12,
     "metadata": {},
     "output_type": "execute_result"
    },
    {
     "data": {
      "image/png": "[encoded data removed]",
      "text/plain": [
       "<Figure size 864x432 with 1 Axes>"
      ]
     },
     "metadata": {
      "needs_background": "light"
     },
     "output_type": "display_data"
    }
   ],
   "source": [
    "#2021, highest daily rainfall\n",
    "group = df2021.groupby('Month').Rainfall_amount_mm.max()\n",
    "group.plot(kind=\"bar\", figsize=(12, 6))"
   ]
  },
  {
   "cell_type": "code",
   "execution_count": 13,
   "id": "acd05ce1-7a4c-4be7-91c1-10baaa487a03",
   "metadata": {},
   "outputs": [
    {
     "data": {
      "text/plain": [
       "<AxesSubplot:xlabel='Month'>"
      ]
     },
     "execution_count": 13,
     "metadata": {},
     "output_type": "execute_result"
    },
    {
     "data": {
      "image/png": "[encoded data removed]",
      "text/plain": [
       "<Figure size 864x432 with 1 Axes>"
      ]
     },
     "metadata": {
      "needs_background": "light"
     },
     "output_type": "display_data"
    }
   ],
   "source": [
    "#2020, Monthly rainfall\n",
    "group = df2020.groupby('Month').Rainfall_amount_mm.sum()\n",
    "group.plot(kind=\"bar\", figsize=(12, 6))"
   ]
  },
  {
   "cell_type": "code",
   "execution_count": 14,
   "id": "10650ea5-e4fe-405b-bf53-30fc8e6b6f26",
   "metadata": {},
   "outputs": [
    {
     "data": {
      "text/plain": [
       "<AxesSubplot:xlabel='Month'>"
      ]
     },
     "execution_count": 14,
     "metadata": {},
     "output_type": "execute_result"
    },
    {
     "data": {
      "image/png": "[encoded data removed]",
      "text/plain": [
       "<Figure size 864x432 with 1 Axes>"
      ]
     },
     "metadata": {
      "needs_background": "light"
     },
     "output_type": "display_data"
    }
   ],
   "source": [
    "#2021, Monthly rainfall\n",
    "group = df2021.groupby('Month').Rainfall_amount_mm.sum()\n",
    "group.plot(kind=\"bar\", figsize=(12, 6))"
   ]
  },
  {
   "cell_type": "code",
   "execution_count": null,
   "id": "8995cc1f-2f83-41c0-b63f-702b0c1f06cf",
   "metadata": {},
   "outputs": [],
   "source": []
  }
 ],
 "metadata": {
  "kernelspec": {
   "display_name": "Python 3 (ipykernel)",
   "language": "python",
   "name": "python3"
  },
  "language_info": {
   "codemirror_mode": {
    "name": "ipython",
    "version": 3
   },
   "file_extension": ".py",
   "mimetype": "text/x-python",
   "name": "python",
   "nbconvert_exporter": "python",
   "pygments_lexer": "ipython3",
   "version": "3.9.7"
  }
 },
 "nbformat": 4,
 "nbformat_minor": 5
}
